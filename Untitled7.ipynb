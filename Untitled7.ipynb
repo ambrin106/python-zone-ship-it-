{
  "nbformat": 4,
  "nbformat_minor": 0,
  "metadata": {
    "colab": {
      "provenance": [],
      "authorship_tag": "ABX9TyOjkmYvceAxTXQu6yVD3IGu",
      "include_colab_link": true
    },
    "kernelspec": {
      "name": "python3",
      "display_name": "Python 3"
    },
    "language_info": {
      "name": "python"
    }
  },
  "cells": [
    {
      "cell_type": "markdown",
      "metadata": {
        "id": "view-in-github",
        "colab_type": "text"
      },
      "source": [
        "<a href=\"https://colab.research.google.com/github/ambrin106/python-zone-ship-it-/blob/main/Untitled7.ipynb\" target=\"_parent\"><img src=\"https://colab.research.google.com/assets/colab-badge.svg\" alt=\"Open In Colab\"/></a>"
      ]
    },
    {
      "cell_type": "code",
      "execution_count": 1,
      "metadata": {
        "colab": {
          "base_uri": "https://localhost:8080/"
        },
        "id": "n_f9gkP-l2PQ",
        "outputId": "7a789188-840a-4130-aae9-2f3613c50d17"
      },
      "outputs": [
        {
          "output_type": "stream",
          "name": "stdout",
          "text": [
            "5 <class 'int'>\n",
            "5.5 <class 'float'>\n",
            "(2+5j) <class 'complex'>\n"
          ]
        }
      ],
      "source": [
        "a=5\n",
        "print (a, type (a))\n",
        "a=5.5\n",
        "print (a, type (a))\n",
        "a=2+5j\n",
        "print (a, type (a))"
      ]
    }
  ]
}