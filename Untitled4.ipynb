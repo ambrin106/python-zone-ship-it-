{
  "nbformat": 4,
  "nbformat_minor": 0,
  "metadata": {
    "colab": {
      "provenance": [],
      "authorship_tag": "ABX9TyOuVN+i87swB4FY1groh4Sv",
      "include_colab_link": true
    },
    "kernelspec": {
      "name": "python3",
      "display_name": "Python 3"
    },
    "language_info": {
      "name": "python"
    }
  },
  "cells": [
    {
      "cell_type": "markdown",
      "metadata": {
        "id": "view-in-github",
        "colab_type": "text"
      },
      "source": [
        "<a href=\"https://colab.research.google.com/github/ambrin106/python-zone-ship-it-/blob/main/Untitled4.ipynb\" target=\"_parent\"><img src=\"https://colab.research.google.com/assets/colab-badge.svg\" alt=\"Open In Colab\"/></a>"
      ]
    },
    {
      "cell_type": "code",
      "execution_count": 6,
      "metadata": {
        "colab": {
          "base_uri": "https://localhost:8080/"
        },
        "id": "Ps43bpMn6UTA",
        "outputId": "e8a3af9b-1ce3-498b-bd80-07573d250ac6"
      },
      "outputs": [
        {
          "output_type": "stream",
          "name": "stdout",
          "text": [
            "10 10\n",
            "x,y\n"
          ]
        }
      ],
      "source": [
        "#variables in python\n",
        "#A variable is a name use to store a value\n",
        "#It helps us remember and use values in program\n",
        "a=10\n",
        "b=10\n",
        "print (a,b)\n",
        "#Rules for python variables\n",
        "#Must start with a letter or _(underscore)\n",
        "#Can have letters, numbers or_\n",
        "#No spaces (like:my name)\n",
        "\n",
        "X=5\n",
        "Y=10\n",
        "print (\"x,y\")"
      ]
    }
  ]
}